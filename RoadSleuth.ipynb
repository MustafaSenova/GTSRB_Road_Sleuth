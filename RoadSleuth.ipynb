{
 "cells": [
  {
   "cell_type": "code",
   "execution_count": 1,
   "id": "b5325948-8e76-4bb7-a356-441eb4393554",
   "metadata": {},
   "outputs": [],
   "source": [
    "import os\n",
    "import keras\n",
    "import cv2\n",
    "import numpy as np\n",
    "import pandas as pd\n",
    "import matplotlib.pyplot as plt\n",
    "from PIL import Image\n",
    "from sklearn.model_selection import train_test_split\n",
    "from sklearn.metrics import accuracy_score\n",
    "import tensorflow as tf\n",
    "from tensorflow.keras.preprocessing.image import ImageDataGenerator, img_to_array, array_to_img, load_img\n",
    "from tensorflow.keras.utils import to_categorical\n",
    "from tensorflow.keras.models import Sequential\n",
    "from tensorflow.keras.layers import Conv2D, Dense, Flatten, MaxPool2D, Dropout\n",
    "from tensorflow.keras.models import load_model\n",
    "from tensorflow.keras.models import Sequential\n",
    "from PIL import Image\n",
    "from tensorflow.keras.optimizers import Adam\n"
   ]
  },
  {
   "cell_type": "code",
   "execution_count": 2,
   "id": "65313353-ac7f-4511-9838-b54bafe5c93a",
   "metadata": {},
   "outputs": [
    {
     "data": {
      "text/plain": [
       "43"
      ]
     },
     "execution_count": 2,
     "metadata": {},
     "output_type": "execute_result"
    }
   ],
   "source": [
    "data_dir = 'C:/Gtsrb'\n",
    "train_path = 'C:/Gtsrb/Train'\n",
    "test_path = 'C:/Gtsrb/'\n",
    "categories = os.listdir(train_path)\n",
    "num_categories = len(categories)\n",
    "num_categories"
   ]
  },
  {
   "cell_type": "code",
   "execution_count": 3,
   "id": "e3f2862c-1a85-4b52-99c4-fc3202110fdc",
   "metadata": {},
   "outputs": [],
   "source": [
    "classes = { 0:'Speed limit (20km/h)',\n",
    "            1:'Speed limit (30km/h)', \n",
    "            2:'Speed limit (50km/h)', \n",
    "            3:'Speed limit (60km/h)', \n",
    "            4:'Speed limit (70km/h)', \n",
    "            5:'Speed limit (80km/h)', \n",
    "            6:'End of speed limit (80km/h)', \n",
    "            7:'Speed limit (100km/h)', \n",
    "            8:'Speed limit (120km/h)', \n",
    "            9:'No passing', \n",
    "            10:'No passing veh over 3.5 tons', \n",
    "            11:'Right-of-way at intersection', \n",
    "            12:'Priority road', \n",
    "            13:'Yield', \n",
    "            14:'Stop', \n",
    "            15:'No vehicles', \n",
    "            16:'Veh > 3.5 tons prohibited', \n",
    "            17:'No entry', \n",
    "            18:'General caution', \n",
    "            19:'Dangerous curve left', \n",
    "            20:'Dangerous curve right', \n",
    "            21:'Double curve', \n",
    "            22:'Bumpy road', \n",
    "            23:'Slippery road', \n",
    "            24:'Road narrows on the right', \n",
    "            25:'Road work', \n",
    "            26:'Traffic signals', \n",
    "            27:'Pedestrians', \n",
    "            28:'Children crossing', \n",
    "            29:'Bicycles crossing', \n",
    "            30:'Beware of ice/snow',\n",
    "            31:'Wild animals crossing', \n",
    "            32:'End speed + passing limits', \n",
    "            33:'Turn right ahead', \n",
    "            34:'Turn left ahead', \n",
    "            35:'Ahead only', \n",
    "            36:'Go straight or right', \n",
    "            37:'Go straight or left', \n",
    "            38:'Keep right', \n",
    "            39:'Keep left', \n",
    "            40:'Roundabout mandatory', \n",
    "            41:'End of no passing', \n",
    "            42:'End no passing veh > 3.5 tons' }"
   ]
  },
  {
   "cell_type": "code",
   "execution_count": 21,
   "id": "1351907c-a334-423b-a827-6fe5a1788647",
   "metadata": {},
   "outputs": [],
   "source": [
    "def load_data(data_dir):\n",
    "   \n",
    "    images = list()\n",
    "    labels = list()\n",
    "    for category in range(num_categories):\n",
    "        categories = os.path.join(data_dir, str(category))\n",
    "        for img in os.listdir(categories):\n",
    "            img = load_img(os.path.join(categories, img), target_size=(30, 30))\n",
    "            image = img_to_array(img)\n",
    "            images.append(image)\n",
    "            labels.append(category)\n",
    "    return images, labels"
   ]
  },
  {
   "cell_type": "code",
   "execution_count": 41,
   "id": "5591668b-14aa-4692-a43f-c3676adcf32c",
   "metadata": {},
   "outputs": [],
   "source": [
    "images, labels = load_data(train_path)\n",
    "\n",
    "# One hot encoding the labels\n",
    "labels = to_categorical(labels)\n",
    "\n",
    "# Splitting the dataset into training and test set\n",
    "X_train, X_test, y_train, y_test = train_test_split(\n",
    "                                                    np.array(images),\n",
    "                                                    labels,\n",
    "                                                    test_size=0.2 , \n",
    "                                                    random_state=42, \n",
    "                                                    shuffle=True\n",
    "                                                    )\n",
    "\n",
    "X_train = X_train/255 \n",
    "X_test = X_test/255"
   ]
  },
  {
   "cell_type": "code",
   "execution_count": 42,
   "id": "ebafaff3-eb0c-4fc8-aff3-9d5ecd5021f0",
   "metadata": {},
   "outputs": [
    {
     "name": "stdout",
     "output_type": "stream",
     "text": [
      "X_train.shape (31367, 30, 30, 3)\n",
      "X_valid.shape (7842, 30, 30, 3)\n",
      "y_train.shape (31367, 43)\n",
      "y_valid.shape (7842, 43)\n"
     ]
    }
   ],
   "source": [
    "print(\"X_train.shape\", X_train.shape)\n",
    "print(\"X_valid.shape\", X_test.shape)\n",
    "print(\"y_train.shape\", y_train.shape)\n",
    "print(\"y_valid.shape\", y_test.shape)"
   ]
  },
  {
   "cell_type": "code",
   "execution_count": 7,
   "id": "c6c771a6-9f8c-4c43-8c9b-e35a9b9a099a",
   "metadata": {},
   "outputs": [],
   "source": [
    "model = keras.models.Sequential([    \n",
    "    keras.layers.Conv2D(filters=16, kernel_size=(3,3), activation='relu', input_shape=(30,30,3)),\n",
    "    keras.layers.Conv2D(filters=32, kernel_size=(3,3), activation='relu'),\n",
    "    keras.layers.MaxPool2D(pool_size=(2, 2)),\n",
    "    keras.layers.BatchNormalization(axis=-1),\n",
    "    \n",
    "    keras.layers.Conv2D(filters=64, kernel_size=(3,3), activation='relu'),\n",
    "    keras.layers.Conv2D(filters=128, kernel_size=(3,3), activation='relu'),\n",
    "    keras.layers.MaxPool2D(pool_size=(2, 2)),\n",
    "    keras.layers.BatchNormalization(axis=-1),\n",
    "    \n",
    "    keras.layers.Flatten(),\n",
    "    keras.layers.Dense(512, activation='relu'),\n",
    "    keras.layers.BatchNormalization(),\n",
    "    keras.layers.Dropout(rate=0.5),\n",
    "    \n",
    "    keras.layers.Dense(43, activation='softmax')\n",
    "])"
   ]
  },
  {
   "cell_type": "code",
   "execution_count": 9,
   "id": "11b719da-f537-42b5-b6e6-14076e07631c",
   "metadata": {},
   "outputs": [],
   "source": [
    "def prep_dataset(X,y):\n",
    "    X_prep = X.astype('float32')\n",
    "    y_prep = to_categorical(np.array(y))\n",
    "    return (X_prep, y_prep)\n",
    "\n",
    "X, y = prep_dataset(data,labels)"
   ]
  },
  {
   "cell_type": "code",
   "execution_count": 8,
   "id": "7e702715-413c-42d8-8fd2-7fe7bdbb73ba",
   "metadata": {},
   "outputs": [],
   "source": [
    "datagen = ImageDataGenerator(rotation_range=10,\n",
    "                             zoom_range=0.2,\n",
    "                             width_shift_range=0.1,\n",
    "                             height_shift_range=0.1,\n",
    "                             shear_range=0.1,\n",
    "                             horizontal_flip=False,\n",
    "                             vertical_flip=False,\n",
    "                             fill_mode=\"nearest\")\n",
    "\n"
   ]
  },
  {
   "cell_type": "code",
   "execution_count": 9,
   "id": "830dbac3-bc2b-47ce-bd98-3ffbb089eadb",
   "metadata": {},
   "outputs": [
    {
     "name": "stdout",
     "output_type": "stream",
     "text": [
      "Epoch 1/25\n",
      "491/491 [==============================] - 133s 270ms/step - loss: 1.2565 - accuracy: 0.6534 - val_loss: 1.5232 - val_accuracy: 0.5221\n",
      "Epoch 2/25\n",
      "491/491 [==============================] - 113s 230ms/step - loss: 0.2561 - accuracy: 0.9212 - val_loss: 0.0533 - val_accuracy: 0.9832\n",
      "Epoch 3/25\n",
      "491/491 [==============================] - 125s 254ms/step - loss: 0.1438 - accuracy: 0.9551 - val_loss: 0.0324 - val_accuracy: 0.9907\n",
      "Epoch 4/25\n",
      "491/491 [==============================] - 130s 265ms/step - loss: 0.1062 - accuracy: 0.9671 - val_loss: 0.0345 - val_accuracy: 0.9899\n",
      "Epoch 5/25\n",
      "491/491 [==============================] - 137s 279ms/step - loss: 0.0875 - accuracy: 0.9719 - val_loss: 0.0364 - val_accuracy: 0.9885\n",
      "Epoch 6/25\n",
      "491/491 [==============================] - 157s 321ms/step - loss: 0.0790 - accuracy: 0.9748 - val_loss: 0.0499 - val_accuracy: 0.9841\n",
      "Epoch 7/25\n",
      "491/491 [==============================] - 136s 277ms/step - loss: 0.0655 - accuracy: 0.9784 - val_loss: 0.0233 - val_accuracy: 0.9934\n",
      "Epoch 8/25\n",
      "491/491 [==============================] - 136s 277ms/step - loss: 0.0593 - accuracy: 0.9810 - val_loss: 0.0377 - val_accuracy: 0.9895\n",
      "Epoch 9/25\n",
      "491/491 [==============================] - 157s 319ms/step - loss: 0.0536 - accuracy: 0.9819 - val_loss: 0.0194 - val_accuracy: 0.9944\n",
      "Epoch 10/25\n",
      "491/491 [==============================] - 139s 283ms/step - loss: 0.0605 - accuracy: 0.9811 - val_loss: 0.0324 - val_accuracy: 0.9889\n",
      "Epoch 11/25\n",
      "491/491 [==============================] - 136s 277ms/step - loss: 0.0621 - accuracy: 0.9807 - val_loss: 0.0165 - val_accuracy: 0.9952\n",
      "Epoch 12/25\n",
      "491/491 [==============================] - 145s 295ms/step - loss: 0.0590 - accuracy: 0.9811 - val_loss: 0.0233 - val_accuracy: 0.9922\n",
      "Epoch 13/25\n",
      "491/491 [==============================] - 146s 297ms/step - loss: 0.0561 - accuracy: 0.9825 - val_loss: 0.0157 - val_accuracy: 0.9953\n",
      "Epoch 14/25\n",
      "491/491 [==============================] - 160s 325ms/step - loss: 0.0399 - accuracy: 0.9868 - val_loss: 0.0197 - val_accuracy: 0.9949\n",
      "Epoch 15/25\n",
      "491/491 [==============================] - 136s 276ms/step - loss: 0.0354 - accuracy: 0.9882 - val_loss: 0.0420 - val_accuracy: 0.9876\n",
      "Epoch 16/25\n",
      "491/491 [==============================] - 141s 288ms/step - loss: 0.0480 - accuracy: 0.9857 - val_loss: 0.0158 - val_accuracy: 0.9952\n",
      "Epoch 17/25\n",
      "491/491 [==============================] - 160s 325ms/step - loss: 0.0374 - accuracy: 0.9880 - val_loss: 0.0149 - val_accuracy: 0.9957\n",
      "Epoch 18/25\n",
      "491/491 [==============================] - 144s 294ms/step - loss: 0.0346 - accuracy: 0.9895 - val_loss: 0.0212 - val_accuracy: 0.9929\n",
      "Epoch 19/25\n",
      "491/491 [==============================] - 151s 307ms/step - loss: 0.0460 - accuracy: 0.9858 - val_loss: 0.0394 - val_accuracy: 0.9870\n",
      "Epoch 20/25\n",
      "491/491 [==============================] - 142s 289ms/step - loss: 0.0351 - accuracy: 0.9886 - val_loss: 0.0073 - val_accuracy: 0.9973\n",
      "Epoch 21/25\n",
      "491/491 [==============================] - 136s 278ms/step - loss: 0.0282 - accuracy: 0.9917 - val_loss: 0.0153 - val_accuracy: 0.9959\n",
      "Epoch 22/25\n",
      "491/491 [==============================] - 143s 292ms/step - loss: 0.0312 - accuracy: 0.9908 - val_loss: 0.0128 - val_accuracy: 0.9958\n",
      "Epoch 23/25\n",
      "491/491 [==============================] - 144s 293ms/step - loss: 0.0405 - accuracy: 0.9876 - val_loss: 0.0171 - val_accuracy: 0.9953\n",
      "Epoch 24/25\n",
      "491/491 [==============================] - 143s 291ms/step - loss: 0.0274 - accuracy: 0.9913 - val_loss: 0.0131 - val_accuracy: 0.9960\n",
      "Epoch 25/25\n",
      "491/491 [==============================] - 143s 291ms/step - loss: 0.0260 - accuracy: 0.9913 - val_loss: 0.0109 - val_accuracy: 0.9971\n"
     ]
    }
   ],
   "source": [
    "optimizer=keras.optimizers.Adam(learning_rate=0.001)\n",
    "\n",
    "model.compile(optimizer=optimizer,\n",
    "             loss='categorical_crossentropy',\n",
    "             metrics=['accuracy'])\n",
    "\n",
    "history= model.fit(datagen.flow(X_train, y_train, batch_size=64),\n",
    "                 epochs=25,\n",
    "                 validation_data=(X_test,y_test))"
   ]
  },
  {
   "cell_type": "code",
   "execution_count": 13,
   "id": "4ca34f6d-ba23-4e33-9e3e-682b2a0c261a",
   "metadata": {},
   "outputs": [
    {
     "name": "stdout",
     "output_type": "stream",
     "text": [
      "Model: \"sequential\"\n",
      "_________________________________________________________________\n",
      " Layer (type)                Output Shape              Param #   \n",
      "=================================================================\n",
      " conv2d (Conv2D)             (None, 28, 28, 16)        448       \n",
      "                                                                 \n",
      " conv2d_1 (Conv2D)           (None, 26, 26, 32)        4640      \n",
      "                                                                 \n",
      " max_pooling2d (MaxPooling2D  (None, 13, 13, 32)       0         \n",
      " )                                                               \n",
      "                                                                 \n",
      " batch_normalization (BatchN  (None, 13, 13, 32)       128       \n",
      " ormalization)                                                   \n",
      "                                                                 \n",
      " conv2d_2 (Conv2D)           (None, 11, 11, 64)        18496     \n",
      "                                                                 \n",
      " conv2d_3 (Conv2D)           (None, 9, 9, 128)         73856     \n",
      "                                                                 \n",
      " max_pooling2d_1 (MaxPooling  (None, 4, 4, 128)        0         \n",
      " 2D)                                                             \n",
      "                                                                 \n",
      " batch_normalization_1 (Batc  (None, 4, 4, 128)        512       \n",
      " hNormalization)                                                 \n",
      "                                                                 \n",
      " flatten (Flatten)           (None, 2048)              0         \n",
      "                                                                 \n",
      " dense (Dense)               (None, 512)               1049088   \n",
      "                                                                 \n",
      " batch_normalization_2 (Batc  (None, 512)              2048      \n",
      " hNormalization)                                                 \n",
      "                                                                 \n",
      " dropout (Dropout)           (None, 512)               0         \n",
      "                                                                 \n",
      " dense_1 (Dense)             (None, 43)                22059     \n",
      "                                                                 \n",
      "=================================================================\n",
      "Total params: 1,171,275\n",
      "Trainable params: 1,169,931\n",
      "Non-trainable params: 1,344\n",
      "_________________________________________________________________\n"
     ]
    }
   ],
   "source": [
    "model.summary()"
   ]
  },
  {
   "cell_type": "code",
   "execution_count": 38,
   "id": "2e52450f-8a4d-46e1-9e34-0ad1ef2ac91d",
   "metadata": {},
   "outputs": [
    {
     "data": {
      "image/png": "[encoded data removed]",
      "text/plain": [
       "<Figure size 1200x400 with 2 Axes>"
      ]
     },
     "metadata": {},
     "output_type": "display_data"
    }
   ],
   "source": [
    "plt.figure(figsize=(12, 4))\n",
    "plt.subplot(1, 2, 1)\n",
    "plt.plot(history.history['loss'], label='Training Loss')\n",
    "plt.plot(history.history['val_loss'], label='Validation Loss')\n",
    "plt.legend()\n",
    "plt.title('Loss')\n",
    "\n",
    "plt.subplot(1, 2, 2)\n",
    "plt.plot(history.history['accuracy'], label='Training Accuracy')\n",
    "plt.plot(history.history['val_accuracy'], label='Validation Accuracy')\n",
    "plt.legend()\n",
    "plt.title('Accuracy')\n",
    "\n",
    "plt.show()"
   ]
  },
  {
   "cell_type": "code",
   "execution_count": 43,
   "id": "604869d7-ec70-408f-8fca-d7b0f2c3db6a",
   "metadata": {},
   "outputs": [
    {
     "name": "stdout",
     "output_type": "stream",
     "text": [
      "246/246 [==============================] - 1s 4ms/step - loss: 0.0109 - accuracy: 0.9971\n",
      "test set accuracy:  99.70670938491821\n"
     ]
    }
   ],
   "source": [
    "loss, accuracy = model.evaluate(X_test, y_test)\n",
    "\n",
    "print('test set accuracy: ', accuracy * 100)"
   ]
  },
  {
   "cell_type": "code",
   "execution_count": 44,
   "id": "7d865322-44f0-44c8-8f95-fedb69e19d7a",
   "metadata": {},
   "outputs": [
    {
     "name": "stdout",
     "output_type": "stream",
     "text": [
      "395/395 [==============================] - 1s 4ms/step\n",
      "Test Data accuracy:  82.0031670625495\n"
     ]
    }
   ],
   "source": [
    "from sklearn.metrics import accuracy_score\n",
    "import pandas as pd\n",
    "\n",
    "Y_test = pd.read_csv(test_path + 'Test.csv')\n",
    "test_labels = Y_test[\"ClassId\"].values\n",
    "test_images = Y_test[\"Path\"].values\n",
    "\n",
    "output = list()\n",
    "for img in test_images:\n",
    "    image = load_img(os.path.join(test_path, img), target_size=(30, 30))\n",
    "    output.append(np.array(image))\n",
    "\n",
    "X_test=np.array(output)\n",
    "pred = model.predict(X_test)\n",
    "pred=np.argmax(pred, axis=1)\n",
    "\n",
    "#Accuracy with the test data\n",
    "print('Test Data accuracy: ',accuracy_score(test_labels, pred)*100)"
   ]
  },
  {
   "cell_type": "code",
   "execution_count": 46,
   "id": "0da3d1ff-838b-4385-b0b6-dbdb4383bebe",
   "metadata": {},
   "outputs": [
    {
     "name": "stdout",
     "output_type": "stream",
     "text": [
      "              precision    recall  f1-score   support\n",
      "\n",
      "           0       0.34      0.97      0.50        60\n",
      "           1       1.00      0.60      0.75       720\n",
      "           2       1.00      0.83      0.91       750\n",
      "           3       0.97      0.28      0.44       450\n",
      "           4       0.94      0.87      0.90       660\n",
      "           5       0.97      0.84      0.90       630\n",
      "           6       1.00      0.01      0.03       150\n",
      "           7       1.00      0.69      0.82       450\n",
      "           8       1.00      0.70      0.82       450\n",
      "           9       0.98      0.79      0.88       480\n",
      "          10       0.99      0.87      0.93       660\n",
      "          11       0.99      0.85      0.91       420\n",
      "          12       1.00      0.98      0.99       690\n",
      "          13       0.99      0.99      0.99       720\n",
      "          14       0.91      1.00      0.95       270\n",
      "          15       0.88      0.99      0.93       210\n",
      "          16       0.28      1.00      0.44       150\n",
      "          17       0.76      1.00      0.86       360\n",
      "          18       1.00      0.79      0.88       390\n",
      "          19       0.68      0.88      0.77        60\n",
      "          20       0.99      0.89      0.94        90\n",
      "          21       0.55      0.77      0.64        90\n",
      "          22       0.89      0.78      0.83       120\n",
      "          23       0.32      1.00      0.49       150\n",
      "          24       0.58      0.70      0.63        90\n",
      "          25       1.00      0.71      0.83       480\n",
      "          26       0.92      0.90      0.91       180\n",
      "          27       0.86      0.50      0.63        60\n",
      "          28       0.95      0.90      0.92       150\n",
      "          29       1.00      0.70      0.82        90\n",
      "          30       0.84      0.29      0.43       150\n",
      "          31       1.00      0.77      0.87       270\n",
      "          32       0.95      1.00      0.98        60\n",
      "          33       0.41      1.00      0.58       210\n",
      "          34       0.36      1.00      0.53       120\n",
      "          35       0.77      0.98      0.86       390\n",
      "          36       0.53      1.00      0.69       120\n",
      "          37       0.86      0.95      0.90        60\n",
      "          38       0.93      0.99      0.96       690\n",
      "          39       1.00      0.89      0.94        90\n",
      "          40       0.80      0.59      0.68        90\n",
      "          41       0.94      0.98      0.96        60\n",
      "          42       0.26      0.81      0.39        90\n",
      "\n",
      "    accuracy                           0.82     12630\n",
      "   macro avg       0.82      0.81      0.77     12630\n",
      "weighted avg       0.91      0.82      0.83     12630\n",
      "\n"
     ]
    }
   ],
   "source": [
    "from sklearn.metrics import classification_report\n",
    "\n",
    "print(classification_report(test_labels, pred))"
   ]
  },
  {
   "cell_type": "code",
   "execution_count": 47,
   "id": "7e205c31-76c3-4b96-94da-cdb091675113",
   "metadata": {},
   "outputs": [],
   "source": [
    "model.save('road_sleuth.h5')"
   ]
  }
 ],
 "metadata": {
  "kernelspec": {
   "display_name": "Python 3 (ipykernel)",
   "language": "python",
   "name": "python3"
  },
  "language_info": {
   "codemirror_mode": {
    "name": "ipython",
    "version": 3
   },
   "file_extension": ".py",
   "mimetype": "text/x-python",
   "name": "python",
   "nbconvert_exporter": "python",
   "pygments_lexer": "ipython3",
   "version": "3.10.13"
  }
 },
 "nbformat": 4,
 "nbformat_minor": 5
}
