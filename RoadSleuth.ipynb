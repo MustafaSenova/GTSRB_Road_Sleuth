{
 "cells": [
  {
   "cell_type": "code",
   "execution_count": 1,
   "id": "b5325948-8e76-4bb7-a356-441eb4393554",
   "metadata": {},
   "outputs": [],
   "source": [
    "import os\n",
    "import keras\n",
    "import cv2\n",
    "import numpy as np\n",
    "import pandas as pd\n",
    "import matplotlib.pyplot as plt\n",
    "from PIL import Image\n",
    "from sklearn.model_selection import train_test_split\n",
    "from sklearn.metrics import accuracy_score\n",
    "import tensorflow as tf\n",
    "from tensorflow.keras.preprocessing.image import ImageDataGenerator, img_to_array, array_to_img, load_img\n",
    "from tensorflow.keras.utils import to_categorical\n",
    "from tensorflow.keras.models import Sequential\n",
    "from tensorflow.keras.layers import Conv2D, Dense, Flatten, MaxPool2D, Dropout\n",
    "from tensorflow.keras.models import load_model\n",
    "from tensorflow.keras.models import Sequential\n",
    "from PIL import Image\n",
    "from tensorflow.keras.optimizers import Adam\n"
   ]
  },
  {
   "cell_type": "code",
   "execution_count": 2,
   "id": "65313353-ac7f-4511-9838-b54bafe5c93a",
   "metadata": {},
   "outputs": [
    {
     "data": {
      "text/plain": [
       "43"
      ]
     },
     "execution_count": 2,
     "metadata": {},
     "output_type": "execute_result"
    }
   ],
   "source": [
    "data_dir = 'C:/Gtsrb'\n",
    "train_path = 'C:/Gtsrb/Train'\n",
    "test_path = 'C:/Gtsrb/'\n",
    "categories = os.listdir(train_path)\n",
    "num_categories = len(categories)\n",
    "num_categories"
   ]
  },
  {
   "cell_type": "code",
   "execution_count": 3,
   "id": "e3f2862c-1a85-4b52-99c4-fc3202110fdc",
   "metadata": {},
   "outputs": [],
   "source": [
    "classes = { 0:'Speed limit (20km/h)',\n",
    "            1:'Speed limit (30km/h)', \n",
    "            2:'Speed limit (50km/h)', \n",
    "            3:'Speed limit (60km/h)', \n",
    "            4:'Speed limit (70km/h)', \n",
    "            5:'Speed limit (80km/h)', \n",
    "            6:'End of speed limit (80km/h)', \n",
    "            7:'Speed limit (100km/h)', \n",
    "            8:'Speed limit (120km/h)', \n",
    "            9:'No passing', \n",
    "            10:'No passing veh over 3.5 tons', \n",
    "            11:'Right-of-way at intersection', \n",
    "            12:'Priority road', \n",
    "            13:'Yield', \n",
    "            14:'Stop', \n",
    "            15:'No vehicles', \n",
    "            16:'Veh > 3.5 tons prohibited', \n",
    "            17:'No entry', \n",
    "            18:'General caution', \n",
    "            19:'Dangerous curve left', \n",
    "            20:'Dangerous curve right', \n",
    "            21:'Double curve', \n",
    "            22:'Bumpy road', \n",
    "            23:'Slippery road', \n",
    "            24:'Road narrows on the right', \n",
    "            25:'Road work', \n",
    "            26:'Traffic signals', \n",
    "            27:'Pedestrians', \n",
    "            28:'Children crossing', \n",
    "            29:'Bicycles crossing', \n",
    "            30:'Beware of ice/snow',\n",
    "            31:'Wild animals crossing', \n",
    "            32:'End speed + passing limits', \n",
    "            33:'Turn right ahead', \n",
    "            34:'Turn left ahead', \n",
    "            35:'Ahead only', \n",
    "            36:'Go straight or right', \n",
    "            37:'Go straight or left', \n",
    "            38:'Keep right', \n",
    "            39:'Keep left', \n",
    "            40:'Roundabout mandatory', \n",
    "            41:'End of no passing', \n",
    "            42:'End no passing veh > 3.5 tons' }"
   ]
  },
  {
   "cell_type": "code",
   "execution_count": 4,
   "id": "1351907c-a334-423b-a827-6fe5a1788647",
   "metadata": {},
   "outputs": [],
   "source": [
    "def load_data(data_dir):\n",
    "   \n",
    "    images = []\n",
    "    labels = []\n",
    "    for category in range(num_categories):\n",
    "        categories = os.path.join(data_dir, str(category))\n",
    "        for img in os.listdir(categories):\n",
    "            img = load_img(os.path.join(categories, img), target_size=(30, 30))\n",
    "            image = img_to_array(img)\n",
    "            images.append(image)\n",
    "            labels.append(category)\n",
    "    return images, labels"
   ]
  },
  {
   "cell_type": "code",
   "execution_count": 5,
   "id": "5591668b-14aa-4692-a43f-c3676adcf32c",
   "metadata": {},
   "outputs": [],
   "source": [
    "images, labels = load_data(train_path)\n",
    "\n",
    "\n",
    "# Splitting the dataset into training and test set\n",
    "X_train, X_test, y_train, y_test = train_test_split(\n",
    "                                                    np.array(images),\n",
    "                                                    np.array(labels),\n",
    "                                                    test_size=0.2 , \n",
    "                                                    random_state=42, \n",
    "                                                    shuffle=True\n",
    "                                                    )\n",
    "X_train = X_train/255 \n",
    "X_test = X_test/255 \n",
    "\n",
    "y_train = keras.utils.to_categorical(y_train)\n",
    "y_test = keras.utils.to_categorical(y_test)"
   ]
  },
  {
   "cell_type": "code",
   "execution_count": 6,
   "id": "ebafaff3-eb0c-4fc8-aff3-9d5ecd5021f0",
   "metadata": {},
   "outputs": [
    {
     "name": "stdout",
     "output_type": "stream",
     "text": [
      "X_train.shape (31367, 30, 30, 3)\n",
      "X_valid.shape (7842, 30, 30, 3)\n",
      "y_train.shape (31367, 43)\n",
      "y_valid.shape (7842, 43)\n"
     ]
    }
   ],
   "source": [
    "print(\"X_train.shape\", X_train.shape)\n",
    "print(\"X_valid.shape\", X_test.shape)\n",
    "print(\"y_train.shape\", y_train.shape)\n",
    "print(\"y_valid.shape\", y_test.shape)"
   ]
  },
  {
   "cell_type": "code",
   "execution_count": 7,
   "id": "c6c771a6-9f8c-4c43-8c9b-e35a9b9a099a",
   "metadata": {},
   "outputs": [],
   "source": [
    "model = keras.models.Sequential([    \n",
    "    keras.layers.Conv2D(filters=16, kernel_size=(3,3), activation='relu', input_shape=(30,30,3)),\n",
    "    keras.layers.Conv2D(filters=64, kernel_size=(3,3), activation='relu'),\n",
    "    keras.layers.MaxPool2D(pool_size=(2, 2)),\n",
    "    keras.layers.BatchNormalization(axis=-1),\n",
    "    \n",
    "    keras.layers.Conv2D(filters=128, kernel_size=(3,3), activation='relu'),\n",
    "    keras.layers.Conv2D(filters=128, kernel_size=(3,3), activation='relu'),\n",
    "    keras.layers.MaxPool2D(pool_size=(2, 2)),\n",
    "    keras.layers.BatchNormalization(axis=-1),\n",
    "\n",
    "    keras.layers.Flatten(),\n",
    "    keras.layers.Dense(512, activation='relu'),\n",
    "    keras.layers.BatchNormalization(),\n",
    "    keras.layers.Dropout(rate=0.5),\n",
    "    \n",
    "    keras.layers.Dense(43, activation='softmax')\n",
    "])"
   ]
  },
  {
   "cell_type": "code",
   "execution_count": 8,
   "id": "4ca34f6d-ba23-4e33-9e3e-682b2a0c261a",
   "metadata": {},
   "outputs": [
    {
     "name": "stdout",
     "output_type": "stream",
     "text": [
      "Model: \"sequential\"\n",
      "_________________________________________________________________\n",
      " Layer (type)                Output Shape              Param #   \n",
      "=================================================================\n",
      " conv2d (Conv2D)             (None, 28, 28, 16)        448       \n",
      "                                                                 \n",
      " conv2d_1 (Conv2D)           (None, 26, 26, 64)        9280      \n",
      "                                                                 \n",
      " max_pooling2d (MaxPooling2D  (None, 13, 13, 64)       0         \n",
      " )                                                               \n",
      "                                                                 \n",
      " batch_normalization (BatchN  (None, 13, 13, 64)       256       \n",
      " ormalization)                                                   \n",
      "                                                                 \n",
      " conv2d_2 (Conv2D)           (None, 11, 11, 128)       73856     \n",
      "                                                                 \n",
      " conv2d_3 (Conv2D)           (None, 9, 9, 128)         147584    \n",
      "                                                                 \n",
      " max_pooling2d_1 (MaxPooling  (None, 4, 4, 128)        0         \n",
      " 2D)                                                             \n",
      "                                                                 \n",
      " batch_normalization_1 (Batc  (None, 4, 4, 128)        512       \n",
      " hNormalization)                                                 \n",
      "                                                                 \n",
      " flatten (Flatten)           (None, 2048)              0         \n",
      "                                                                 \n",
      " dense (Dense)               (None, 512)               1049088   \n",
      "                                                                 \n",
      " batch_normalization_2 (Batc  (None, 512)              2048      \n",
      " hNormalization)                                                 \n",
      "                                                                 \n",
      " dropout (Dropout)           (None, 512)               0         \n",
      "                                                                 \n",
      " dense_1 (Dense)             (None, 43)                22059     \n",
      "                                                                 \n",
      "=================================================================\n",
      "Total params: 1,305,131\n",
      "Trainable params: 1,303,723\n",
      "Non-trainable params: 1,408\n",
      "_________________________________________________________________\n"
     ]
    }
   ],
   "source": [
    "model.summary()"
   ]
  },
  {
   "cell_type": "code",
   "execution_count": 9,
   "id": "7e702715-413c-42d8-8fd2-7fe7bdbb73ba",
   "metadata": {},
   "outputs": [],
   "source": [
    "datagen = ImageDataGenerator(rotation_range=10,\n",
    "                             zoom_range=0.2,\n",
    "                             width_shift_range=0.1,\n",
    "                             height_shift_range=0.1,\n",
    "                             shear_range=0.1,\n",
    "                             horizontal_flip=False,\n",
    "                             vertical_flip=False,\n",
    "                             fill_mode=\"nearest\")\n",
    "\n"
   ]
  },
  {
   "cell_type": "code",
   "execution_count": null,
   "id": "830dbac3-bc2b-47ce-bd98-3ffbb089eadb",
   "metadata": {},
   "outputs": [
    {
     "name": "stdout",
     "output_type": "stream",
     "text": [
      "Epoch 1/30\n",
      "491/491 [==============================] - 119s 241ms/step - loss: 1.2514 - accuracy: 0.6633 - val_loss: 1.9684 - val_accuracy: 0.4250\n",
      "Epoch 2/30\n",
      "491/491 [==============================] - 114s 231ms/step - loss: 0.2273 - accuracy: 0.9306 - val_loss: 0.0619 - val_accuracy: 0.9792\n",
      "Epoch 3/30\n",
      "491/491 [==============================] - 116s 236ms/step - loss: 0.1304 - accuracy: 0.9598 - val_loss: 0.0641 - val_accuracy: 0.9800\n",
      "Epoch 4/30\n",
      "491/491 [==============================] - 107s 217ms/step - loss: 0.0985 - accuracy: 0.9692 - val_loss: 0.0232 - val_accuracy: 0.9935\n",
      "Epoch 5/30\n",
      " 42/491 [=>............................] - ETA: 1:31 - loss: 0.0811 - accuracy: 0.9728"
     ]
    }
   ],
   "source": [
    "optimizer=keras.optimizers.Adam(learning_rate=0.001)\n",
    "\n",
    "model.compile(optimizer=optimizer,\n",
    "             loss='categorical_crossentropy',\n",
    "             metrics=['accuracy'])\n",
    "\n",
    "history= model.fit(datagen.flow(X_train, y_train, batch_size=64),\n",
    "                 epochs=30,\n",
    "                 validation_data=(X_test,y_test))"
   ]
  },
  {
   "cell_type": "code",
   "execution_count": 22,
   "id": "2e52450f-8a4d-46e1-9e34-0ad1ef2ac91d",
   "metadata": {},
   "outputs": [
    {
     "data": {
      "image/png": "[encoded data removed]",
      "text/plain": [
       "<Figure size 1200x400 with 2 Axes>"
      ]
     },
     "metadata": {},
     "output_type": "display_data"
    }
   ],
   "source": [
    "plt.figure(figsize=(12, 4))\n",
    "plt.subplot(1, 2, 1)\n",
    "plt.plot(history.history['loss'], label='Training Loss')\n",
    "plt.plot(history.history['val_loss'], label='Validation Loss')\n",
    "plt.legend()\n",
    "plt.title('Loss')\n",
    "\n",
    "plt.subplot(1, 2, 2)\n",
    "plt.plot(history.history['accuracy'], label='Training Accuracy')\n",
    "plt.plot(history.history['val_accuracy'], label='Validation Accuracy')\n",
    "plt.legend()\n",
    "plt.title('Accuracy')\n",
    "\n",
    "plt.show()"
   ]
  },
  {
   "cell_type": "code",
   "execution_count": 23,
   "id": "604869d7-ec70-408f-8fca-d7b0f2c3db6a",
   "metadata": {},
   "outputs": [
    {
     "name": "stdout",
     "output_type": "stream",
     "text": [
      "246/246 [==============================] - 1s 6ms/step - loss: 0.0104 - accuracy: 0.9974\n",
      "test set accuracy:  99.74496364593506\n"
     ]
    }
   ],
   "source": [
    "loss, accuracy = model.evaluate(X_test, y_test)\n",
    "\n",
    "print('test set accuracy: ', accuracy * 100)"
   ]
  },
  {
   "cell_type": "code",
   "execution_count": 24,
   "id": "7d865322-44f0-44c8-8f95-fedb69e19d7a",
   "metadata": {},
   "outputs": [
    {
     "name": "stdout",
     "output_type": "stream",
     "text": [
      "395/395 [==============================] - 2s 5ms/step\n",
      "Test Data accuracy:  97.42676167854314\n"
     ]
    }
   ],
   "source": [
    "from sklearn.metrics import accuracy_score\n",
    "import pandas as pd\n",
    "\n",
    "Test = pd.read_csv(test_path + 'Test.csv')\n",
    "test_labels = Test[\"ClassId\"].values\n",
    "test_images = Test[\"Path\"].values\n",
    "\n",
    "output = []\n",
    "for img in test_images:\n",
    "    image = load_img(os.path.join(test_path, img), target_size=(30, 30))\n",
    "    output.append(np.array(image))\n",
    "\n",
    "X_test=np.array(output)\n",
    "X_test=X_test/255\n",
    "pred = model.predict(X_test)\n",
    "pred=np.argmax(pred, axis=1)\n",
    "\n",
    "print('Test Data accuracy: ',accuracy_score(test_labels, pred)*100)"
   ]
  },
  {
   "cell_type": "code",
   "execution_count": 25,
   "id": "0da3d1ff-838b-4385-b0b6-dbdb4383bebe",
   "metadata": {},
   "outputs": [
    {
     "name": "stdout",
     "output_type": "stream",
     "text": [
      "              precision    recall  f1-score   support\n",
      "\n",
      "           0       0.98      1.00      0.99        60\n",
      "           1       0.96      1.00      0.98       720\n",
      "           2       0.98      0.99      0.99       750\n",
      "           3       1.00      0.97      0.99       450\n",
      "           4       1.00      0.96      0.98       660\n",
      "           5       0.98      0.98      0.98       630\n",
      "           6       1.00      0.94      0.97       150\n",
      "           7       1.00      1.00      1.00       450\n",
      "           8       0.99      1.00      0.99       450\n",
      "           9       0.99      1.00      0.99       480\n",
      "          10       1.00      1.00      1.00       660\n",
      "          11       0.98      0.98      0.98       420\n",
      "          12       1.00      0.91      0.95       690\n",
      "          13       1.00      1.00      1.00       720\n",
      "          14       0.95      1.00      0.97       270\n",
      "          15       0.82      1.00      0.90       210\n",
      "          16       1.00      1.00      1.00       150\n",
      "          17       1.00      0.95      0.97       360\n",
      "          18       0.98      0.95      0.97       390\n",
      "          19       1.00      0.98      0.99        60\n",
      "          20       0.79      1.00      0.88        90\n",
      "          21       0.90      1.00      0.95        90\n",
      "          22       0.99      0.78      0.87       120\n",
      "          23       0.90      0.97      0.93       150\n",
      "          24       1.00      0.93      0.97        90\n",
      "          25       1.00      0.96      0.98       480\n",
      "          26       0.97      0.97      0.97       180\n",
      "          27       0.71      0.50      0.59        60\n",
      "          28       0.94      0.99      0.96       150\n",
      "          29       0.81      1.00      0.90        90\n",
      "          30       0.92      0.87      0.89       150\n",
      "          31       1.00      0.99      1.00       270\n",
      "          32       1.00      1.00      1.00        60\n",
      "          33       0.98      1.00      0.99       210\n",
      "          34       1.00      1.00      1.00       120\n",
      "          35       1.00      0.95      0.97       390\n",
      "          36       0.95      1.00      0.98       120\n",
      "          37       0.76      1.00      0.86        60\n",
      "          38       0.98      1.00      0.99       690\n",
      "          39       0.94      0.99      0.96        90\n",
      "          40       0.90      0.98      0.94        90\n",
      "          41       0.98      1.00      0.99        60\n",
      "          42       0.99      0.99      0.99        90\n",
      "\n",
      "    accuracy                           0.97     12630\n",
      "   macro avg       0.95      0.96      0.96     12630\n",
      "weighted avg       0.98      0.97      0.97     12630\n",
      "\n"
     ]
    }
   ],
   "source": [
    "from sklearn.metrics import classification_report\n",
    "\n",
    "print(classification_report(test_labels, pred))"
   ]
  },
  {
   "cell_type": "code",
   "execution_count": 27,
   "id": "7e205c31-76c3-4b96-94da-cdb091675113",
   "metadata": {},
   "outputs": [],
   "source": [
    "model.save('road_sleuth.h5')"
   ]
  }
 ],
 "metadata": {
  "kernelspec": {
   "display_name": "Python 3 (ipykernel)",
   "language": "python",
   "name": "python3"
  },
  "language_info": {
   "codemirror_mode": {
    "name": "ipython",
    "version": 3
   },
   "file_extension": ".py",
   "mimetype": "text/x-python",
   "name": "python",
   "nbconvert_exporter": "python",
   "pygments_lexer": "ipython3",
   "version": "3.10.13"
  }
 },
 "nbformat": 4,
 "nbformat_minor": 5
}
